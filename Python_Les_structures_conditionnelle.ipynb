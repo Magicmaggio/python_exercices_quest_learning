{
  "cells": [
    {
      "cell_type": "markdown",
      "metadata": {
        "id": "view-in-github",
        "colab_type": "text"
      },
      "source": [
        "<a href=\"https://colab.research.google.com/github/Magicmaggio/python_exercices_quest_learning/blob/main/Python_Les_structures_conditionnelle.ipynb\" target=\"_parent\"><img src=\"https://colab.research.google.com/assets/colab-badge.svg\" alt=\"Open In Colab\"/></a>"
      ]
    },
    {
      "cell_type": "markdown",
      "metadata": {
        "id": "p0IY6ccQKu9_"
      },
      "source": [
        "# 1. Calcul du montant d'une remise"
      ]
    },
    {
      "cell_type": "markdown",
      "metadata": {
        "id": "chbM0tgeZpEf"
      },
      "source": [
        "Un commerçant accorde une remise de 5 % pour tout achat d’un montant compris entre 100 et 500 € et 8 % au-delà.<br>\n",
        "Ecrivez un programme de calcul du montant de la remise sur un achat donné.<br>\n",
        "Affichez la remise."
      ]
    },
    {
      "cell_type": "code",
      "source": [
        "def calcul_remise(prix_achat):\n",
        "  if 100 <= prix_achat <= 500:\n",
        "      remise = prix_achat * 0.05\n",
        "  elif prix_achat > 500:\n",
        "      remise = prix_achat * 0.08\n",
        "  else:\n",
        "      remise = 0\n",
        "  return remise\n",
        "\n",
        "prix_achat = float(input(\"Entrer le prix de l'achat: \"))\n",
        "remise = calcul_remise(prix_achat)\n",
        "print(\"Le solde est de: \", remise)"
      ],
      "metadata": {
        "id": "zt7-1YIsIJis",
        "outputId": "c917d112-b63c-4bf0-e47c-9e7ad19715ac",
        "colab": {
          "base_uri": "https://localhost:8080/"
        }
      },
      "execution_count": 6,
      "outputs": [
        {
          "output_type": "stream",
          "name": "stdout",
          "text": [
            "Entrer le prix de l'achat: 621\n",
            "Le solde est de:  49.68\n"
          ]
        }
      ]
    },
    {
      "cell_type": "markdown",
      "source": [],
      "metadata": {
        "id": "PHssT7dbJnW8"
      }
    },
    {
      "cell_type": "markdown",
      "metadata": {
        "id": "J-YXtU1Yb2pi"
      },
      "source": [
        "# 2. Savoir si trois entiers sont triés"
      ]
    },
    {
      "cell_type": "markdown",
      "metadata": {
        "id": "yerUe3q7cMmR"
      },
      "source": [
        "Ecrivez un programme faisant saisir trois entiers x, y, z à l’utilisateur, et lui indiquer si ces nombres sont dans l’ordre croissant (x <= y <= z)."
      ]
    },
    {
      "cell_type": "code",
      "execution_count": 8,
      "metadata": {
        "id": "yVs2Ry3NbpEW",
        "outputId": "719894ef-9c45-47c4-e541-827f277ec4d2",
        "colab": {
          "base_uri": "https://localhost:8080/"
        }
      },
      "outputs": [
        {
          "output_type": "stream",
          "name": "stdout",
          "text": [
            "Premier entier ?2\n",
            "Deuxième entier ?6\n",
            "Troisième entier ?5\n",
            "Non\n"
          ]
        }
      ],
      "source": [
        "entier1 = input(\"Premier entier ?\")\n",
        "entier2 = input(\"Deuxième entier ?\")\n",
        "entier3 = input(\"Troisième entier ?\")\n",
        "\n",
        "if entier1 <= entier2 <= entier3:\n",
        "  print(\"Oui\")\n",
        "else:\n",
        "  print(\"Non\")"
      ]
    },
    {
      "cell_type": "markdown",
      "metadata": {
        "id": "dEeLSaUyKADT"
      },
      "source": [
        "# 3. Tri de trois réels"
      ]
    },
    {
      "cell_type": "markdown",
      "metadata": {
        "id": "_agdLsdsKADT"
      },
      "source": [
        "Ecrivez un programme faisant saisir trois nombres réels x, y, z à l’utilisateur et qui les trie par ordre croissant (à la fin du déroulement du programme x ≤ y ≤ z).<br>\n",
        "Affichez x, y et z."
      ]
    },
    {
      "cell_type": "code",
      "execution_count": 12,
      "metadata": {
        "id": "t6NVOORxKADT",
        "outputId": "87e3c026-b883-4116-f137-c8c880b47d1d",
        "colab": {
          "base_uri": "https://localhost:8080/"
        }
      },
      "outputs": [
        {
          "output_type": "stream",
          "name": "stdout",
          "text": [
            "Premier nombre réel ?5\n",
            "Deuxième nombre réel ?7\n",
            "Troisième nombre réel ?6\n",
            "x = 5.0\n",
            "y = 6.0\n",
            "z = 7.0\n"
          ]
        }
      ],
      "source": [
        "nombre_reel1 = float(input(\"Premier nombre réel ?\"))\n",
        "nombre_reel2 = float(input(\"Deuxième nombre réel ?\"))\n",
        "nombre_reel3 = float(input(\"Troisième nombre réel ?\"))\n",
        "\n",
        "nombres_reels = [nombre_reel1, nombre_reel2, nombre_reel3]\n",
        "nombres_reels.sort()\n",
        "\n",
        "x = nombres_reels[0]\n",
        "y = nombres_reels[1]\n",
        "z = nombres_reels[2]\n",
        "\n",
        "print(\"x =\", x)\n",
        "print(\"y =\", y)\n",
        "print(\"z =\", z)"
      ]
    },
    {
      "cell_type": "markdown",
      "metadata": {
        "id": "VHpwqJ5uKADT"
      },
      "source": [
        "# 4. Signe d'un produit"
      ]
    },
    {
      "cell_type": "markdown",
      "metadata": {
        "id": "iAKUQEViKADU"
      },
      "source": [
        "Ecrivez un programme qui affiche le signe du produit de deux nombres réels sans calculer la valeur de ce produit. Par signe, on entend positif, négatif ou nul."
      ]
    },
    {
      "cell_type": "code",
      "execution_count": 16,
      "metadata": {
        "id": "g08ejd6IKADU",
        "outputId": "d71ed240-ae1d-4559-f052-0e761eacc125",
        "colab": {
          "base_uri": "https://localhost:8080/"
        }
      },
      "outputs": [
        {
          "output_type": "stream",
          "name": "stdout",
          "text": [
            "Premier nombre réel ?0\n",
            "Deuxième nombre réel ?3\n",
            "Le produit est nul\n"
          ]
        }
      ],
      "source": [
        "nombre_reel1 = float(input(\"Premier nombre réel ?\"))\n",
        "nombre_reel2 = float(input(\"Deuxième nombre réel ?\"))\n",
        "\n",
        "if nombre_reel1 * nombre_reel2 > 0:\n",
        "  print(\"Le produit est positif\")\n",
        "elif nombre_reel1 * nombre_reel2 < 0:\n",
        "  print(\"Le produit est négatif\")\n",
        "else:\n",
        "  print(\"Le produit est nul\")"
      ]
    }
  ],
  "metadata": {
    "colab": {
      "provenance": [],
      "include_colab_link": true
    },
    "kernelspec": {
      "display_name": "Python 3",
      "name": "python3"
    },
    "language_info": {
      "name": "python"
    }
  },
  "nbformat": 4,
  "nbformat_minor": 0
}