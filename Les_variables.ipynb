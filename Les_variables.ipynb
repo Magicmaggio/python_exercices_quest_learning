{
  "cells": [
    {
      "cell_type": "markdown",
      "metadata": {
        "id": "view-in-github",
        "colab_type": "text"
      },
      "source": [
        "<a href=\"https://colab.research.google.com/github/Magicmaggio/python_exercices_quest_learning/blob/main/Les_variables.ipynb\" target=\"_parent\"><img src=\"https://colab.research.google.com/assets/colab-badge.svg\" alt=\"Open In Colab\"/></a>"
      ]
    },
    {
      "cell_type": "markdown",
      "metadata": {
        "id": "p0IY6ccQKu9_"
      },
      "source": [
        "# 1. Les variables"
      ]
    },
    {
      "cell_type": "markdown",
      "metadata": {
        "id": "chbM0tgeZpEf"
      },
      "source": [
        "#### 1.1 Dans les cellules de code ci-dessous, quel est, pour chaque cellule, le type de chaque variable ?"
      ]
    },
    {
      "cell_type": "code",
      "execution_count": null,
      "metadata": {
        "id": "WjJmN0AxZBLw"
      },
      "outputs": [],
      "source": [
        "count = 5"
      ]
    },
    {
      "cell_type": "markdown",
      "source": [
        "int"
      ],
      "metadata": {
        "id": "7O_opTV9UYk0"
      }
    },
    {
      "cell_type": "code",
      "execution_count": null,
      "metadata": {
        "id": "latNGJ8caLkY"
      },
      "outputs": [],
      "source": [
        "greeting = \"Hello World\""
      ]
    },
    {
      "cell_type": "markdown",
      "source": [
        "str"
      ],
      "metadata": {
        "id": "F8lJz0e_UZk6"
      }
    },
    {
      "cell_type": "code",
      "execution_count": null,
      "metadata": {
        "id": "tf7IgsXZa15e"
      },
      "outputs": [],
      "source": [
        "price = 2.5"
      ]
    },
    {
      "cell_type": "markdown",
      "source": [
        "float"
      ],
      "metadata": {
        "id": "tErDqf53Uaqq"
      }
    },
    {
      "cell_type": "code",
      "execution_count": null,
      "metadata": {
        "id": "lpPCkWfWbY3N"
      },
      "outputs": [],
      "source": [
        "is_active = True"
      ]
    },
    {
      "cell_type": "markdown",
      "source": [
        "bool"
      ],
      "metadata": {
        "id": "OD0rXOu_Ubf-"
      }
    },
    {
      "cell_type": "markdown",
      "metadata": {
        "id": "J-YXtU1Yb2pi"
      },
      "source": [
        "#### 1.2 Maintenant, vous allez devoir convertir des objets d'un certain type, en un autre type d'objet."
      ]
    },
    {
      "cell_type": "markdown",
      "metadata": {
        "id": "yerUe3q7cMmR"
      },
      "source": [
        "Convertissez la variable `count` en float."
      ]
    },
    {
      "cell_type": "code",
      "execution_count": null,
      "metadata": {
        "id": "yVs2Ry3NbpEW",
        "outputId": "1d9392ee-9b8f-480e-b53b-6126dd3364e6",
        "colab": {
          "base_uri": "https://localhost:8080/"
        }
      },
      "outputs": [
        {
          "output_type": "stream",
          "name": "stdout",
          "text": [
            "5.0\n"
          ]
        }
      ],
      "source": [
        "count = 5\n",
        "float_count = float(count)\n",
        "print(float_count)"
      ]
    },
    {
      "cell_type": "markdown",
      "metadata": {
        "id": "q0LodnjUcPyl"
      },
      "source": [
        "Convertissez la variable `price` en int"
      ]
    },
    {
      "cell_type": "code",
      "execution_count": null,
      "metadata": {
        "id": "0Ffo568UcJBg",
        "outputId": "fa64db1e-5db2-49d8-a03c-bf4df4c53b9c",
        "colab": {
          "base_uri": "https://localhost:8080/"
        }
      },
      "outputs": [
        {
          "output_type": "stream",
          "name": "stdout",
          "text": [
            "5\n"
          ]
        }
      ],
      "source": [
        "price = 5.4\n",
        "int_price = int(price)\n",
        "print(int_price)"
      ]
    },
    {
      "cell_type": "markdown",
      "metadata": {
        "id": "ZYsPxH7vcho9"
      },
      "source": [
        "Que pouvez-vous remarquer ?"
      ]
    },
    {
      "cell_type": "markdown",
      "metadata": {
        "id": "Le9gddo6ckPP"
      },
      "source": [
        "Réponse: ça arrondit bordel de dieu\n"
      ]
    },
    {
      "cell_type": "markdown",
      "metadata": {
        "id": "YmPGqs_FcmZh"
      },
      "source": [
        "Trouvez le moyen d'arrondir la variable `temperature`."
      ]
    },
    {
      "cell_type": "code",
      "execution_count": null,
      "metadata": {
        "id": "UUInqFe9cbMJ",
        "outputId": "1c335a01-ddd4-4a02-e3f7-868c6767d3df",
        "colab": {
          "base_uri": "https://localhost:8080/"
        }
      },
      "outputs": [
        {
          "output_type": "stream",
          "name": "stdout",
          "text": [
            "5\n"
          ]
        }
      ],
      "source": [
        "temperature = 5.3\n",
        "rounded_temperature = round(temperature)\n",
        "print(rounded_temperature)"
      ]
    },
    {
      "cell_type": "markdown",
      "metadata": {
        "id": "OGJ4a9Abc7Jj"
      },
      "source": [
        "Après avoir arrondi la variable `temperature`, est-ce que c'est toujours un `float` ?"
      ]
    },
    {
      "cell_type": "markdown",
      "metadata": {
        "id": "KNqAr-hyHfmZ"
      },
      "source": [
        "Réponse:"
      ]
    },
    {
      "cell_type": "markdown",
      "metadata": {
        "id": "deL_WAeRdN8Y"
      },
      "source": [
        "Ci-dessous, est-ce que height est un `int` ?"
      ]
    },
    {
      "cell_type": "code",
      "execution_count": 1,
      "metadata": {
        "id": "BZqcem6pcvWh",
        "colab": {
          "base_uri": "https://localhost:8080/"
        },
        "outputId": "2fe1063e-f4a1-4ea8-ddab-e2016050869d"
      },
      "outputs": [
        {
          "output_type": "stream",
          "name": "stdout",
          "text": [
            "<class 'float'>\n"
          ]
        }
      ],
      "source": [
        "height = 6.0\n",
        "print(type(height))"
      ]
    },
    {
      "cell_type": "markdown",
      "metadata": {
        "id": "JxlIV2p8HfmZ"
      },
      "source": [
        "Réponse:"
      ]
    },
    {
      "cell_type": "markdown",
      "metadata": {
        "id": "9KYIUuQ2HfmZ"
      },
      "source": [
        "# 2. Les entrées/sorties"
      ]
    },
    {
      "cell_type": "markdown",
      "metadata": {
        "id": "OQt_WH0qHfmZ"
      },
      "source": [
        "Affichez le message suivant : \"Hello world\"."
      ]
    },
    {
      "cell_type": "code",
      "execution_count": 4,
      "metadata": {
        "id": "ceOB9cK3HfmZ",
        "colab": {
          "base_uri": "https://localhost:8080/"
        },
        "outputId": "1b7abf09-f593-4ced-92e2-5db69ce8c53c"
      },
      "outputs": [
        {
          "output_type": "stream",
          "name": "stdout",
          "text": [
            "Hello world\n"
          ]
        }
      ],
      "source": [
        "print(\"Hello world\")"
      ]
    },
    {
      "cell_type": "markdown",
      "metadata": {
        "id": "Lx7lv0-THfmZ"
      },
      "source": [
        "Demandez à l'utilisateur s'il fait beau aujourd'hui."
      ]
    },
    {
      "cell_type": "code",
      "execution_count": 5,
      "metadata": {
        "id": "9ZKeGRJWHfmZ",
        "colab": {
          "base_uri": "https://localhost:8080/",
          "height": 53
        },
        "outputId": "ff82e109-9983-4afb-ef76-0e01016f5846"
      },
      "outputs": [
        {
          "name": "stdout",
          "output_type": "stream",
          "text": [
            "Fait-il beau aujourd'hui gizon ?yessir\n"
          ]
        },
        {
          "output_type": "execute_result",
          "data": {
            "text/plain": [
              "'yessir'"
            ],
            "application/vnd.google.colaboratory.intrinsic+json": {
              "type": "string"
            }
          },
          "metadata": {},
          "execution_count": 5
        }
      ],
      "source": [
        "input(\"Fait-il beau aujourd'hui gizon ?\")"
      ]
    },
    {
      "cell_type": "markdown",
      "metadata": {
        "id": "xVW_TJS7HfmZ"
      },
      "source": [
        "# 3. Tout ensemble !"
      ]
    },
    {
      "cell_type": "markdown",
      "metadata": {
        "id": "243C9wQAHfmZ"
      },
      "source": [
        "Maintenant tu vas combiner tout ce que tu as appris jusqu'à présent !"
      ]
    },
    {
      "cell_type": "markdown",
      "metadata": {
        "id": "WaUho8b2HfmZ"
      },
      "source": [
        "#### 3.1 Première interaction avec l'utilisateur\n",
        "Réalisez les étapes suivantes dans l'ordre :\n",
        " - Demande à l'utilisateur son age et stocke-le dans une variable de type `ìnt`.\n",
        " - Vérifie le type de la variable.\n",
        " - Affiche l'âge de l'utilisateur."
      ]
    },
    {
      "cell_type": "code",
      "source": [
        "age_str = input(\"Quel est votre âge ? \")\n",
        "age = int(age_str)\n",
        "print(type(age))\n",
        "print(\"Votre âge est :\", age)"
      ],
      "metadata": {
        "colab": {
          "base_uri": "https://localhost:8080/"
        },
        "id": "D7ePqyaCVZmk",
        "outputId": "31d8df92-fbec-48bd-a0fc-cdedf1c7b45c"
      },
      "execution_count": 3,
      "outputs": [
        {
          "output_type": "stream",
          "name": "stdout",
          "text": [
            "Quel est votre âge ? 11\n",
            "<class 'int'>\n",
            "Votre âge est : 11\n"
          ]
        }
      ]
    },
    {
      "cell_type": "markdown",
      "metadata": {
        "id": "JyW3mtb5HfmZ"
      },
      "source": [
        "#### 3.2 Inversion de deux variables\n",
        "\n",
        "Réalisez les étapes suivantes dans l'ordre :\n",
        " - Demande à l'utilisateur de rentrer deux valeurs et stocke-les dans deux variables différentes (par exemple `x` et `y`).\n",
        " - Effectue l'échange des valeurs entre ces deux variables.\n",
        " - Affiche la valeur des deux variables."
      ]
    },
    {
      "cell_type": "code",
      "source": [
        "x = input(\"Entrez la première valeur : \")\n",
        "y = input(\"Entrez la deuxième valeur : \")\n",
        "\n",
        "x, y = y, x\n",
        "\n",
        "print(\"La première valeur est maintenant :\", x)\n",
        "print(\"La deuxième valeur est maintenant :\", y)"
      ],
      "metadata": {
        "id": "r0ClwFT5VNqP"
      },
      "execution_count": null,
      "outputs": []
    }
  ],
  "metadata": {
    "colab": {
      "provenance": [],
      "include_colab_link": true
    },
    "kernelspec": {
      "display_name": "Python 3",
      "name": "python3"
    },
    "language_info": {
      "name": "python"
    }
  },
  "nbformat": 4,
  "nbformat_minor": 0
}